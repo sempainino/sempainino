{
  "nbformat": 4,
  "nbformat_minor": 0,
  "metadata": {
    "colab": {
      "provenance": [],
      "authorship_tag": "ABX9TyPO6Ddq7KytYQNIX9KfvBJE",
      "include_colab_link": true
    },
    "kernelspec": {
      "name": "python3",
      "display_name": "Python 3"
    },
    "language_info": {
      "name": "python"
    }
  },
  "cells": [
    {
      "cell_type": "markdown",
      "metadata": {
        "id": "view-in-github",
        "colab_type": "text"
      },
      "source": [
        "<a href=\"https://colab.research.google.com/github/sempainino/sempainino/blob/main/Found_anyone.ipynb\" target=\"_parent\"><img src=\"https://colab.research.google.com/assets/colab-badge.svg\" alt=\"Open In Colab\"/></a>"
      ]
    },
    {
      "cell_type": "code",
      "execution_count": 1,
      "metadata": {
        "colab": {
          "base_uri": "https://localhost:8080/"
        },
        "id": "7s14BbBPYTCw",
        "outputId": "a4b12af6-e96a-4fb3-afaa-dff3a745df94"
      },
      "outputs": [
        {
          "output_type": "stream",
          "name": "stdout",
          "text": [
            "Cloning into 'sherlock'...\n",
            "remote: Enumerating objects: 7797, done.\u001b[K\n",
            "remote: Counting objects: 100% (2799/2799), done.\u001b[K\n",
            "remote: Compressing objects: 100% (209/209), done.\u001b[K\n",
            "remote: Total 7797 (delta 2638), reused 2613 (delta 2571), pack-reused 4998\u001b[K\n",
            "Receiving objects: 100% (7797/7797), 16.32 MiB | 20.94 MiB/s, done.\n",
            "Resolving deltas: 100% (4956/4956), done.\n",
            "/content/sherlock\n",
            "Requirement already satisfied: certifi>=2019.6.16 in /usr/local/lib/python3.10/dist-packages (from -r requirements.txt (line 1)) (2024.2.2)\n",
            "Collecting colorama>=0.4.1 (from -r requirements.txt (line 2))\n",
            "  Downloading colorama-0.4.6-py2.py3-none-any.whl (25 kB)\n",
            "Requirement already satisfied: PySocks>=1.7.0 in /usr/local/lib/python3.10/dist-packages (from -r requirements.txt (line 3)) (1.7.1)\n",
            "Requirement already satisfied: requests>=2.22.0 in /usr/local/lib/python3.10/dist-packages (from -r requirements.txt (line 4)) (2.31.0)\n",
            "Collecting requests-futures>=1.0.0 (from -r requirements.txt (line 5))\n",
            "  Downloading requests_futures-1.0.1-py2.py3-none-any.whl (7.6 kB)\n",
            "Collecting stem>=1.8.0 (from -r requirements.txt (line 6))\n",
            "  Downloading stem-1.8.2.tar.gz (2.9 MB)\n",
            "\u001b[2K     \u001b[90m━━━━━━━━━━━━━━━━━━━━━━━━━━━━━━━━━━━━━━━━\u001b[0m \u001b[32m2.9/2.9 MB\u001b[0m \u001b[31m52.4 MB/s\u001b[0m eta \u001b[36m0:00:00\u001b[0m\n",
            "\u001b[?25h  Preparing metadata (setup.py) ... \u001b[?25l\u001b[?25hdone\n",
            "Collecting torrequest>=0.1.0 (from -r requirements.txt (line 7))\n",
            "  Downloading torrequest-0.1.0.tar.gz (1.5 kB)\n",
            "  Preparing metadata (setup.py) ... \u001b[?25l\u001b[?25hdone\n",
            "Requirement already satisfied: pandas>=1.0.0 in /usr/local/lib/python3.10/dist-packages (from -r requirements.txt (line 8)) (1.5.3)\n",
            "Collecting openpyxl<=3.0.10 (from -r requirements.txt (line 9))\n",
            "  Downloading openpyxl-3.0.10-py2.py3-none-any.whl (242 kB)\n",
            "\u001b[2K     \u001b[90m━━━━━━━━━━━━━━━━━━━━━━━━━━━━━━━━━━━━━━━━\u001b[0m \u001b[32m242.1/242.1 kB\u001b[0m \u001b[31m36.3 MB/s\u001b[0m eta \u001b[36m0:00:00\u001b[0m\n",
            "\u001b[?25hCollecting exrex>=0.11.0 (from -r requirements.txt (line 10))\n",
            "  Downloading exrex-0.11.0-py2.py3-none-any.whl (23 kB)\n",
            "Requirement already satisfied: charset-normalizer<4,>=2 in /usr/local/lib/python3.10/dist-packages (from requests>=2.22.0->-r requirements.txt (line 4)) (3.3.2)\n",
            "Requirement already satisfied: idna<4,>=2.5 in /usr/local/lib/python3.10/dist-packages (from requests>=2.22.0->-r requirements.txt (line 4)) (3.6)\n",
            "Requirement already satisfied: urllib3<3,>=1.21.1 in /usr/local/lib/python3.10/dist-packages (from requests>=2.22.0->-r requirements.txt (line 4)) (2.0.7)\n",
            "Requirement already satisfied: python-dateutil>=2.8.1 in /usr/local/lib/python3.10/dist-packages (from pandas>=1.0.0->-r requirements.txt (line 8)) (2.8.2)\n",
            "Requirement already satisfied: pytz>=2020.1 in /usr/local/lib/python3.10/dist-packages (from pandas>=1.0.0->-r requirements.txt (line 8)) (2023.4)\n",
            "Requirement already satisfied: numpy>=1.21.0 in /usr/local/lib/python3.10/dist-packages (from pandas>=1.0.0->-r requirements.txt (line 8)) (1.23.5)\n",
            "Requirement already satisfied: et-xmlfile in /usr/local/lib/python3.10/dist-packages (from openpyxl<=3.0.10->-r requirements.txt (line 9)) (1.1.0)\n",
            "Requirement already satisfied: six>=1.5 in /usr/local/lib/python3.10/dist-packages (from python-dateutil>=2.8.1->pandas>=1.0.0->-r requirements.txt (line 8)) (1.16.0)\n",
            "Building wheels for collected packages: stem, torrequest\n",
            "  Building wheel for stem (setup.py) ... \u001b[?25l\u001b[?25hdone\n",
            "  Created wheel for stem: filename=stem-1.8.2-py3-none-any.whl size=436204 sha256=c7dd4ad7315385205f9c9f67d9dbd0baa4aabf71e55270363a60899118725952\n",
            "  Stored in directory: /root/.cache/pip/wheels/4e/f3/41/2af9219109ac95b19b149169b0a8c99c714c021cb82e813498\n",
            "  Building wheel for torrequest (setup.py) ... \u001b[?25l\u001b[?25hdone\n",
            "  Created wheel for torrequest: filename=torrequest-0.1.0-py3-none-any.whl size=1889 sha256=c8d571d2f35425f3b304e6cc5929d1f4407bc1b03899cdfd8fd7ea1af8102ef6\n",
            "  Stored in directory: /root/.cache/pip/wheels/5a/90/a2/885ce0bd36a62290d9eca8ea5605e47ee6113c66b94c048338\n",
            "Successfully built stem torrequest\n",
            "Installing collected packages: stem, exrex, openpyxl, colorama, torrequest, requests-futures\n",
            "  Attempting uninstall: openpyxl\n",
            "    Found existing installation: openpyxl 3.1.2\n",
            "    Uninstalling openpyxl-3.1.2:\n",
            "      Successfully uninstalled openpyxl-3.1.2\n",
            "Successfully installed colorama-0.4.6 exrex-0.11.0 openpyxl-3.0.10 requests-futures-1.0.1 stem-1.8.2 torrequest-0.1.0\n"
          ]
        }
      ],
      "source": [
        "# prompt: # clone the repo $ git clone https://github.com/sherlock-project/sherlock.git  # change the working directory to sherlock $ cd sherlock  # install the requirements $ python3 -m pip install -r requirements.txt\n",
        "\n",
        "!git clone https://github.com/sherlock-project/sherlock.git\n",
        "%cd sherlock\n",
        "!python3 -m pip install -r requirements.txt\n"
      ]
    },
    {
      "cell_type": "code",
      "source": [],
      "metadata": {
        "id": "WRMIZMbOY7jm"
      },
      "execution_count": null,
      "outputs": []
    },
    {
      "cell_type": "code",
      "source": [
        "# prompt:  python3 sherlock --help\n",
        "\n",
        "!python3 sherlock --help\n"
      ],
      "metadata": {
        "colab": {
          "base_uri": "https://localhost:8080/"
        },
        "id": "QeAybSUxYuj8",
        "outputId": "795985e9-b7ca-4e84-eacb-940daded24b6"
      },
      "execution_count": 2,
      "outputs": [
        {
          "output_type": "stream",
          "name": "stdout",
          "text": [
            "usage: sherlock [-h] [--version] [--verbose] [--folderoutput FOLDEROUTPUT] [--output OUTPUT]\n",
            "                [--tor] [--unique-tor] [--csv] [--xlsx] [--site SITE_NAME] [--proxy PROXY_URL]\n",
            "                [--json JSON_FILE] [--timeout TIMEOUT] [--print-all] [--print-found] [--no-color]\n",
            "                [--browse] [--local] [--nsfw]\n",
            "                USERNAMES [USERNAMES ...]\n",
            "\n",
            "Sherlock: Find Usernames Across Social Networks (Version 0.14.3)\n",
            "\n",
            "positional arguments:\n",
            "  USERNAMES             One or more usernames to check with social networks. Check similar\n",
            "                        usernames using {?} (replace to '_', '-', '.').\n",
            "\n",
            "options:\n",
            "  -h, --help            show this help message and exit\n",
            "  --version             Display version information and dependencies.\n",
            "  --verbose, -v, -d, --debug\n",
            "                        Display extra debugging information and metrics.\n",
            "  --folderoutput FOLDEROUTPUT, -fo FOLDEROUTPUT\n",
            "                        If using multiple usernames, the output of the results will be saved to\n",
            "                        this folder.\n",
            "  --output OUTPUT, -o OUTPUT\n",
            "                        If using single username, the output of the result will be saved to this\n",
            "                        file.\n",
            "  --tor, -t             Make requests over Tor; increases runtime; requires Tor to be installed\n",
            "                        and in system path.\n",
            "  --unique-tor, -u      Make requests over Tor with new Tor circuit after each request; increases\n",
            "                        runtime; requires Tor to be installed and in system path.\n",
            "  --csv                 Create Comma-Separated Values (CSV) File.\n",
            "  --xlsx                Create the standard file for the modern Microsoft Excel spreadsheet\n",
            "                        (xslx).\n",
            "  --site SITE_NAME      Limit analysis to just the listed sites. Add multiple options to specify\n",
            "                        more than one site.\n",
            "  --proxy PROXY_URL, -p PROXY_URL\n",
            "                        Make requests over a proxy. e.g. socks5://127.0.0.1:1080\n",
            "  --json JSON_FILE, -j JSON_FILE\n",
            "                        Load data from a JSON file or an online, valid, JSON file.\n",
            "  --timeout TIMEOUT     Time (in seconds) to wait for response to requests (Default: 60)\n",
            "  --print-all           Output sites where the username was not found.\n",
            "  --print-found         Output sites where the username was found (also if exported as file).\n",
            "  --no-color            Don't color terminal output\n",
            "  --browse, -b          Browse to all results on default browser.\n",
            "  --local, -l           Force the use of the local data.json file.\n",
            "  --nsfw                Include checking of NSFW sites from default list.\n"
          ]
        }
      ]
    },
    {
      "cell_type": "code",
      "source": [
        "!python3 sherlock nazmulrahman"
      ],
      "metadata": {
        "colab": {
          "base_uri": "https://localhost:8080/"
        },
        "id": "puRpiL9kY-Gt",
        "outputId": "5b9bd7f5-084c-40a3-bba8-8d1699162ad3"
      },
      "execution_count": 5,
      "outputs": [
        {
          "output_type": "stream",
          "name": "stdout",
          "text": [
            "\u001b[1m\u001b[32m[\u001b[33m*\u001b[32m] Checking username\u001b[37m nazmulrahman\u001b[32m on:\u001b[0m\n",
            "\u001b[0m\r\u001b[0m\n",
            "\u001b[0m\u001b[1m\u001b[37m[\u001b[32m+\u001b[37m]\u001b[32m Academia.edu: \u001b[0mhttps://independent.academia.edu/nazmulrahman\u001b[0m\n",
            "\u001b[0m\u001b[1m\u001b[37m[\u001b[32m+\u001b[37m]\u001b[32m Behance: \u001b[0mhttps://www.behance.net/nazmulrahman\u001b[0m\n",
            "\u001b[0m\u001b[1m\u001b[37m[\u001b[32m+\u001b[37m]\u001b[32m Blogger: \u001b[0mhttps://nazmulrahman.blogspot.com\u001b[0m\n",
            "\u001b[0m\u001b[1m\u001b[37m[\u001b[32m+\u001b[37m]\u001b[32m CGTrader: \u001b[0mhttps://www.cgtrader.com/nazmulrahman\u001b[0m\n",
            "\u001b[0m\u001b[1m\u001b[37m[\u001b[32m+\u001b[37m]\u001b[32m Contently: \u001b[0mhttps://nazmulrahman.contently.com/\u001b[0m\n",
            "\u001b[0m\u001b[1m\u001b[37m[\u001b[32m+\u001b[37m]\u001b[32m DeviantART: \u001b[0mhttps://nazmulrahman.deviantart.com\u001b[0m\n",
            "\u001b[0m\u001b[1m\u001b[37m[\u001b[32m+\u001b[37m]\u001b[32m Fiverr: \u001b[0mhttps://www.fiverr.com/nazmulrahman\u001b[0m\n",
            "\u001b[0m\u001b[1m\u001b[37m[\u001b[32m+\u001b[37m]\u001b[32m Flipboard: \u001b[0mhttps://flipboard.com/@nazmulrahman\u001b[0m\n",
            "\u001b[0m\u001b[1m\u001b[37m[\u001b[32m+\u001b[37m]\u001b[32m Freelancer: \u001b[0mhttps://www.freelancer.com/u/nazmulrahman\u001b[0m\n",
            "\u001b[0m\u001b[1m\u001b[37m[\u001b[32m+\u001b[37m]\u001b[32m G2G: \u001b[0mhttps://www.g2g.com/nazmulrahman\u001b[0m\n",
            "\u001b[0m\u001b[1m\u001b[37m[\u001b[32m+\u001b[37m]\u001b[32m GitHub: \u001b[0mhttps://www.github.com/nazmulrahman\u001b[0m\n",
            "\u001b[0m\u001b[1m\u001b[37m[\u001b[32m+\u001b[37m]\u001b[32m Medium: \u001b[0mhttps://medium.com/@nazmulrahman\u001b[0m\n",
            "\u001b[0m\u001b[1m\u001b[37m[\u001b[32m+\u001b[37m]\u001b[32m NitroType: \u001b[0mhttps://www.nitrotype.com/racer/nazmulrahman\u001b[0m\n",
            "\u001b[0m\u001b[1m\u001b[37m[\u001b[32m+\u001b[37m]\u001b[32m Reddit: \u001b[0mhttps://www.reddit.com/user/nazmulrahman\u001b[0m\n",
            "\u001b[0m\u001b[1m\u001b[37m[\u001b[32m+\u001b[37m]\u001b[32m Replit.com: \u001b[0mhttps://replit.com/@nazmulrahman\u001b[0m\n",
            "\u001b[0m\u001b[1m\u001b[37m[\u001b[32m+\u001b[37m]\u001b[32m Roblox: \u001b[0mhttps://www.roblox.com/user.aspx?username=nazmulrahman\u001b[0m\n",
            "\u001b[0m\u001b[1m\u001b[37m[\u001b[32m+\u001b[37m]\u001b[32m Rumble: \u001b[0mhttps://rumble.com/user/nazmulrahman\u001b[0m\n",
            "\u001b[0m\u001b[1m\u001b[37m[\u001b[32m+\u001b[37m]\u001b[32m SlideShare: \u001b[0mhttps://slideshare.net/nazmulrahman\u001b[0m\n",
            "\u001b[0m\u001b[1m\u001b[37m[\u001b[32m+\u001b[37m]\u001b[32m Smule: \u001b[0mhttps://www.smule.com/nazmulrahman\u001b[0m\n",
            "\u001b[0m\u001b[1m\u001b[37m[\u001b[32m+\u001b[37m]\u001b[32m Spotify: \u001b[0mhttps://open.spotify.com/user/nazmulrahman\u001b[0m\n",
            "\u001b[0m\u001b[1m\u001b[37m[\u001b[32m+\u001b[37m]\u001b[32m Telegram: \u001b[0mhttps://t.me/nazmulrahman\u001b[0m\n",
            "\u001b[0m\u001b[1m\u001b[37m[\u001b[32m+\u001b[37m]\u001b[32m TradingView: \u001b[0mhttps://www.tradingview.com/u/nazmulrahman/\u001b[0m\n",
            "\u001b[0m\u001b[1m\u001b[37m[\u001b[32m+\u001b[37m]\u001b[32m WordPress: \u001b[0mhttps://nazmulrahman.wordpress.com/\u001b[0m\n",
            "\u001b[0m\u001b[1m\u001b[37m[\u001b[32m+\u001b[37m]\u001b[32m metacritic: \u001b[0mhttps://www.metacritic.com/user/nazmulrahman\u001b[0m\n",
            "\u001b[0m\n",
            "\u001b[0m\u001b[1m\u001b[32m[\u001b[33m*\u001b[32m] Search completed with\u001b[37m 24 \u001b[32mresults\u001b[0m\u001b[0m\n",
            "\u001b[0m\u001b[0m"
          ]
        }
      ]
    }
  ]
}